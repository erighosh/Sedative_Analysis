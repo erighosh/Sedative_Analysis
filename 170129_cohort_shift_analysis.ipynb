{
 "cells": [
  {
   "cell_type": "markdown",
   "metadata": {},
   "source": [
    "# Script to compile med data\n",
    "- Drug types administered to cohort\n",
    "- Drug specific dose distribution"
   ]
  },
  {
   "cell_type": "code",
   "execution_count": 1,
   "metadata": {
    "collapsed": true
   },
   "outputs": [],
   "source": [
    "import pandas as pd\n",
    "import numpy as np\n",
    "from datetime import datetime, timedelta\n",
    "import matplotlib.pyplot\n",
    "%matplotlib inline"
   ]
  },
  {
   "cell_type": "code",
   "execution_count": 2,
   "metadata": {
    "collapsed": true
   },
   "outputs": [],
   "source": [
    "import Pain_data_postgres_etl\n",
    "pless_module = Pain_data_postgres_etl.PainMedETL()"
   ]
  },
  {
   "cell_type": "markdown",
   "metadata": {},
   "source": [
    "## Subject List"
   ]
  },
  {
   "cell_type": "code",
   "execution_count": 3,
   "metadata": {
    "collapsed": false
   },
   "outputs": [
    {
     "data": {
      "text/plain": [
       "(2334, 13)"
      ]
     },
     "execution_count": 3,
     "metadata": {},
     "output_type": "execute_result"
    }
   ],
   "source": [
    "cohort_df = pd.read_csv('cohort2334.csv', parse_dates=['starttime', 'endtime'])\n",
    "cohort_df.shape"
   ]
  },
  {
   "cell_type": "markdown",
   "metadata": {},
   "source": [
    "### Loop to get meds administered by type"
   ]
  },
  {
   "cell_type": "code",
   "execution_count": 4,
   "metadata": {
    "collapsed": false
   },
   "outputs": [],
   "source": [
    "def dn_totals(med_df):\n",
    "    if type(med_df.index[0]) is not pd.tslib.Timestamp:\n",
    "        med_df.set_index('Shift_Start', drop=False, inplace=True)\n",
    "    col_list = med_df.columns\n",
    "    med_day = med_df[med_df.index.hour == 7]\n",
    "    med_night = med_df[med_df.index.hour == 19]\n",
    "    med_totals = {}\n",
    "    for col in col_list:\n",
    "        if col != 'Shift_Start':\n",
    "            key1 = 'D_'+ col\n",
    "            med_totals[key1] = med_day[col].sum()\n",
    "            key2 = 'N_'+col\n",
    "            med_totals[key2] = med_night[col].sum()\n",
    "    return med_totals        \n",
    "            "
   ]
  },
  {
   "cell_type": "markdown",
   "metadata": {},
   "source": [
    "Creating empty dataframe for output"
   ]
  },
  {
   "cell_type": "code",
   "execution_count": 5,
   "metadata": {
    "collapsed": false
   },
   "outputs": [],
   "source": [
    "med_list = pd.read_csv('pain_med_list.csv')\n",
    "col_list = med_list['label'].tolist()"
   ]
  },
  {
   "cell_type": "code",
   "execution_count": 6,
   "metadata": {
    "collapsed": false
   },
   "outputs": [],
   "source": [
    "shift_col_list = ['Hadm_id']\n",
    "for col in col_list:\n",
    "    shift_col_list.append('D_'+col)\n",
    "    shift_col_list.append('N_'+col)"
   ]
  },
  {
   "cell_type": "code",
   "execution_count": 7,
   "metadata": {
    "collapsed": false
   },
   "outputs": [
    {
     "data": {
      "text/html": [
       "<div>\n",
       "<table border=\"1\" class=\"dataframe\">\n",
       "  <thead>\n",
       "    <tr style=\"text-align: right;\">\n",
       "      <th></th>\n",
       "      <th>Hadm_id</th>\n",
       "      <th>D_Lorazepam (Ativan)</th>\n",
       "      <th>N_Lorazepam (Ativan)</th>\n",
       "      <th>D_Diazepam (Valium)</th>\n",
       "      <th>N_Diazepam (Valium)</th>\n",
       "      <th>D_Midazolam (Versed)</th>\n",
       "      <th>N_Midazolam (Versed)</th>\n",
       "      <th>D_Ketamine</th>\n",
       "      <th>N_Ketamine</th>\n",
       "      <th>D_Fentanyl</th>\n",
       "      <th>...</th>\n",
       "      <th>D_Fentanyl (Push)</th>\n",
       "      <th>N_Fentanyl (Push)</th>\n",
       "      <th>D_Meperidine (Demerol)</th>\n",
       "      <th>N_Meperidine (Demerol)</th>\n",
       "      <th>D_Fentanyl (Concentrate)</th>\n",
       "      <th>N_Fentanyl (Concentrate)</th>\n",
       "      <th>D_Morphine Sulfate</th>\n",
       "      <th>N_Morphine Sulfate</th>\n",
       "      <th>D_Pentobarbital</th>\n",
       "      <th>N_Pentobarbital</th>\n",
       "    </tr>\n",
       "  </thead>\n",
       "  <tbody>\n",
       "  </tbody>\n",
       "</table>\n",
       "<p>0 rows × 27 columns</p>\n",
       "</div>"
      ],
      "text/plain": [
       "Empty DataFrame\n",
       "Columns: [Hadm_id, D_Lorazepam (Ativan), N_Lorazepam (Ativan), D_Diazepam (Valium), N_Diazepam (Valium), D_Midazolam (Versed), N_Midazolam (Versed), D_Ketamine, N_Ketamine, D_Fentanyl, N_Fentanyl, D_Haloperidol (Haldol), N_Haloperidol (Haldol), D_Hydromorphone (Dilaudid), N_Hydromorphone (Dilaudid), D_Propofol, N_Propofol, D_Fentanyl (Push), N_Fentanyl (Push), D_Meperidine (Demerol), N_Meperidine (Demerol), D_Fentanyl (Concentrate), N_Fentanyl (Concentrate), D_Morphine Sulfate, N_Morphine Sulfate, D_Pentobarbital, N_Pentobarbital]\n",
       "Index: []\n",
       "\n",
       "[0 rows x 27 columns]"
      ]
     },
     "execution_count": 7,
     "metadata": {},
     "output_type": "execute_result"
    }
   ],
   "source": [
    "cohort_bolus_totals = pd.DataFrame(columns= shift_col_list)\n",
    "cohort_iv_totals = pd.DataFrame(columns= shift_col_list)\n",
    "cohort_bolus_totals.head(2)"
   ]
  },
  {
   "cell_type": "code",
   "execution_count": 12,
   "metadata": {
    "collapsed": false,
    "scrolled": true
   },
   "outputs": [],
   "source": [
    "#cohort_med_totals = pd.DataFrame(columns=['hadm_id', 'D_Lorazepam (Ativan)', 'NBZ', 'OP'])\n",
    "for i, r in cohort_df.iterrows():\n",
    "    if i > 10:\n",
    "        break\n",
    "    med_data = pless_module.get_med_data(r['hadm_id'])\n",
    "    med_vent_data = pless_module.filter_by_duration(med_data, r['starttime'], r['endtime'])\n",
    "    if med_vent_data.shape[0] > 0:\n",
    "        med_bolus_df = med_vent_data.loc[med_vent_data['OrderCategoryName'] == '05-Med Bolus']\n",
    "        med_iv_df = med_vent_data.loc[med_vent_data['OrderCategoryName'] == '01-Drips']\n",
    "        if med_bolus_df.shape[0] > 0:\n",
    "            bolus_shift_totals = pless_module.get_bolus_shift_total(med_bolus_df)\n",
    "            totals_dict = dn_totals(bolus_shift_totals)\n",
    "            cohort_bolus_totals['Hadm_id'].loc[i] = r['hadm_id']\n",
    "            for key, value in totals_dict.iteritems():\n",
    "                cohort_bolus_totals[key].loc[i] = value\n",
    "            #bolus_save_file = 'Med_data\\\\Bolus_List_' + str(hadm_id) + '.csv'\n",
    "            #bolus_shift_totals.to_csv(bolus_save_file)\n",
    "            #if i%50 == 0:\n",
    "                #print 'Saved bolus: '+ str(r['hadm_id'])\n",
    "        if med_iv_df.shape[0] > 0:\n",
    "            iv_shift_totals = pless_module.get_IV_shift_total(med_iv_df)\n",
    "            if iv_shift_totals.shape[0] > 0:\n",
    "                total_iv_dict = dn_totals(iv_shift_totals)\n",
    "                cohort_iv_totals['Hadm_id'].loc[i] = r['hadm_id']\n",
    "                for key, value in total_iv_dict.iteritems():\n",
    "                    cohort_iv_totals[key].loc[i] = value\n",
    "            #iv_save_file = 'Med_data\\\\IV_List_' + str(hadm_id) + '.csv'\n",
    "            #iv_shift_totals.to_csv(iv_save_file)\n",
    "            #if i%80 == 0:\n",
    "                #print 'Saved IV: ' + str(r['hadm_id'])\n",
    "    "
   ]
  },
  {
   "cell_type": "code",
   "execution_count": 13,
   "metadata": {
    "collapsed": false
   },
   "outputs": [
    {
     "name": "stdout",
     "output_type": "stream",
     "text": [
      "(0, 27)\n"
     ]
    },
    {
     "data": {
      "text/plain": [
       "{u'D_Fentanyl': 2.5000000000000002e-08,\n",
       " u'D_Midazolam (Versed)': 0.00025000000000000001,\n",
       " u'D_Morphine Sulfate': 0.0050000004000000002,\n",
       " u'N_Fentanyl': nan,\n",
       " u'N_Midazolam (Versed)': nan,\n",
       " u'N_Morphine Sulfate': 0.015000001200000002}"
      ]
     },
     "execution_count": 13,
     "metadata": {},
     "output_type": "execute_result"
    }
   ],
   "source": [
    "print cohort_iv_totals.shape\n",
    "totals_dict"
   ]
  },
  {
   "cell_type": "code",
   "execution_count": 16,
   "metadata": {
    "collapsed": false
   },
   "outputs": [
    {
     "data": {
      "text/plain": [
       "Index([u'Hadm_id', u'D_Lorazepam (Ativan)', u'N_Lorazepam (Ativan)',\n",
       "       u'D_Diazepam (Valium)', u'N_Diazepam (Valium)', u'D_Midazolam (Versed)',\n",
       "       u'N_Midazolam (Versed)', u'D_Ketamine', u'N_Ketamine', u'D_Fentanyl',\n",
       "       u'N_Fentanyl', u'D_Haloperidol (Haldol)', u'N_Haloperidol (Haldol)',\n",
       "       u'D_Hydromorphone (Dilaudid)', u'N_Hydromorphone (Dilaudid)',\n",
       "       u'D_Propofol', u'N_Propofol', u'D_Fentanyl (Push)',\n",
       "       u'N_Fentanyl (Push)', u'D_Meperidine (Demerol)',\n",
       "       u'N_Meperidine (Demerol)', u'D_Fentanyl (Concentrate)',\n",
       "       u'N_Fentanyl (Concentrate)', u'D_Morphine Sulfate',\n",
       "       u'N_Morphine Sulfate', u'D_Pentobarbital', u'N_Pentobarbital'],\n",
       "      dtype='object')"
      ]
     },
     "execution_count": 16,
     "metadata": {},
     "output_type": "execute_result"
    }
   ],
   "source": [
    "cohort_bolus_totals.columns"
   ]
  },
  {
   "cell_type": "code",
   "execution_count": 21,
   "metadata": {
    "collapsed": false
   },
   "outputs": [
    {
     "name": "stdout",
     "output_type": "stream",
     "text": [
      "D_Midazolam (Versed)\n",
      "0.00025\n",
      "D_Morphine Sulfate\n",
      "0.0050000004\n",
      "D_Fentanyl\n",
      "2.5e-08\n",
      "N_Fentanyl\n",
      "nan\n",
      "N_Morphine Sulfate\n",
      "0.0150000012\n",
      "N_Midazolam (Versed)\n",
      "nan\n"
     ]
    },
    {
     "data": {
      "text/plain": [
       "pandas.core.series.Series"
      ]
     },
     "execution_count": 21,
     "metadata": {},
     "output_type": "execute_result"
    }
   ],
   "source": [
    "for k, v in totals_dict.iteritems():\n",
    "    print str(k)\n",
    "    print v\n",
    "    cohort_bolus_totals[k].loc[0] = v\n",
    "type(cohort_bolus_totals[k])"
   ]
  },
  {
   "cell_type": "code",
   "execution_count": 22,
   "metadata": {
    "collapsed": false
   },
   "outputs": [
    {
     "data": {
      "text/plain": [
       "u'N_Midazolam (Versed)'"
      ]
     },
     "execution_count": 22,
     "metadata": {},
     "output_type": "execute_result"
    }
   ],
   "source": [
    "k"
   ]
  },
  {
   "cell_type": "code",
   "execution_count": 23,
   "metadata": {
    "collapsed": false
   },
   "outputs": [
    {
     "data": {
      "text/plain": [
       "0    0.00025\n",
       "1    0.01400\n",
       "4    0.00750\n",
       "5    0.01200\n",
       "6    0.00500\n",
       "Name: D_Midazolam (Versed), dtype: float64"
      ]
     },
     "execution_count": 23,
     "metadata": {},
     "output_type": "execute_result"
    }
   ],
   "source": [
    "cohort_bolus_totals['D_Midazolam (Versed)'].head()"
   ]
  },
  {
   "cell_type": "code",
   "execution_count": 24,
   "metadata": {
    "collapsed": false
   },
   "outputs": [
    {
     "data": {
      "text/plain": [
       "0    165660\n",
       "1    116367\n",
       "2    100009\n",
       "3    170157\n",
       "4    102365\n",
       "Name: Hadm_id, dtype: int64"
      ]
     },
     "execution_count": 24,
     "metadata": {},
     "output_type": "execute_result"
    }
   ],
   "source": [
    "cohort_bolus_totals['Hadm_id'].head()"
   ]
  },
  {
   "cell_type": "code",
   "execution_count": 25,
   "metadata": {
    "collapsed": true
   },
   "outputs": [],
   "source": [
    "t1 = pd.concat([cohort_bolus_totals['Hadm_id'], cohort_bolus_totals['D_Diazepam (Valium)'], \n",
    "                cohort_bolus_totals['D_Fentanyl']], axis = 1)"
   ]
  },
  {
   "cell_type": "code",
   "execution_count": 26,
   "metadata": {
    "collapsed": false
   },
   "outputs": [
    {
     "data": {
      "text/html": [
       "<div>\n",
       "<table border=\"1\" class=\"dataframe\">\n",
       "  <thead>\n",
       "    <tr style=\"text-align: right;\">\n",
       "      <th></th>\n",
       "      <th>Hadm_id</th>\n",
       "      <th>D_Diazepam (Valium)</th>\n",
       "      <th>D_Fentanyl</th>\n",
       "    </tr>\n",
       "  </thead>\n",
       "  <tbody>\n",
       "    <tr>\n",
       "      <th>0</th>\n",
       "      <td>165660</td>\n",
       "      <td>NaN</td>\n",
       "      <td>2.500000e-08</td>\n",
       "    </tr>\n",
       "    <tr>\n",
       "      <th>1</th>\n",
       "      <td>116367</td>\n",
       "      <td>0.05</td>\n",
       "      <td>5.500000e-07</td>\n",
       "    </tr>\n",
       "    <tr>\n",
       "      <th>2</th>\n",
       "      <td>100009</td>\n",
       "      <td>NaN</td>\n",
       "      <td>NaN</td>\n",
       "    </tr>\n",
       "    <tr>\n",
       "      <th>3</th>\n",
       "      <td>170157</td>\n",
       "      <td>NaN</td>\n",
       "      <td>1.500000e-07</td>\n",
       "    </tr>\n",
       "    <tr>\n",
       "      <th>4</th>\n",
       "      <td>102365</td>\n",
       "      <td>NaN</td>\n",
       "      <td>3.500000e-07</td>\n",
       "    </tr>\n",
       "  </tbody>\n",
       "</table>\n",
       "</div>"
      ],
      "text/plain": [
       "   Hadm_id  D_Diazepam (Valium)    D_Fentanyl\n",
       "0   165660                  NaN  2.500000e-08\n",
       "1   116367                 0.05  5.500000e-07\n",
       "2   100009                  NaN           NaN\n",
       "3   170157                  NaN  1.500000e-07\n",
       "4   102365                  NaN  3.500000e-07"
      ]
     },
     "execution_count": 26,
     "metadata": {},
     "output_type": "execute_result"
    }
   ],
   "source": [
    "t1.head()"
   ]
  },
  {
   "cell_type": "markdown",
   "metadata": {},
   "source": [
    "## Creating shift totals dataframe using concat"
   ]
  },
  {
   "cell_type": "markdown",
   "metadata": {},
   "source": [
    "Bolus"
   ]
  },
  {
   "cell_type": "code",
   "execution_count": 27,
   "metadata": {
    "collapsed": false,
    "scrolled": true
   },
   "outputs": [
    {
     "data": {
      "text/html": [
       "<div>\n",
       "<table border=\"1\" class=\"dataframe\">\n",
       "  <thead>\n",
       "    <tr style=\"text-align: right;\">\n",
       "      <th></th>\n",
       "      <th>Hadm_id</th>\n",
       "      <th>D_Diazepam (Valium)</th>\n",
       "      <th>D_Fentanyl</th>\n",
       "      <th>D_Fentanyl (Concentrate)</th>\n",
       "      <th>D_Fentanyl (Push)</th>\n",
       "      <th>D_Haloperidol (Haldol)</th>\n",
       "      <th>D_Hydromorphone (Dilaudid)</th>\n",
       "      <th>D_Ketamine</th>\n",
       "      <th>D_Lorazepam (Ativan)</th>\n",
       "      <th>D_Meperidine (Demerol)</th>\n",
       "      <th>...</th>\n",
       "      <th>N_Fentanyl (Push)</th>\n",
       "      <th>N_Haloperidol (Haldol)</th>\n",
       "      <th>N_Hydromorphone (Dilaudid)</th>\n",
       "      <th>N_Ketamine</th>\n",
       "      <th>N_Lorazepam (Ativan)</th>\n",
       "      <th>N_Meperidine (Demerol)</th>\n",
       "      <th>N_Midazolam (Versed)</th>\n",
       "      <th>N_Morphine Sulfate</th>\n",
       "      <th>N_Pentobarbital</th>\n",
       "      <th>N_Propofol</th>\n",
       "    </tr>\n",
       "  </thead>\n",
       "  <tbody>\n",
       "    <tr>\n",
       "      <th>0</th>\n",
       "      <td>165660</td>\n",
       "      <td>NaN</td>\n",
       "      <td>2.500000e-08</td>\n",
       "      <td>NaN</td>\n",
       "      <td>NaN</td>\n",
       "      <td>NaN</td>\n",
       "      <td>NaN</td>\n",
       "      <td>NaN</td>\n",
       "      <td>NaN</td>\n",
       "      <td>NaN</td>\n",
       "      <td>...</td>\n",
       "      <td>NaN</td>\n",
       "      <td>NaN</td>\n",
       "      <td>NaN</td>\n",
       "      <td>NaN</td>\n",
       "      <td>NaN</td>\n",
       "      <td>NaN</td>\n",
       "      <td>NaN</td>\n",
       "      <td>0.015</td>\n",
       "      <td>NaN</td>\n",
       "      <td>NaN</td>\n",
       "    </tr>\n",
       "    <tr>\n",
       "      <th>1</th>\n",
       "      <td>116367</td>\n",
       "      <td>0.05</td>\n",
       "      <td>5.500000e-07</td>\n",
       "      <td>NaN</td>\n",
       "      <td>NaN</td>\n",
       "      <td>NaN</td>\n",
       "      <td>NaN</td>\n",
       "      <td>NaN</td>\n",
       "      <td>NaN</td>\n",
       "      <td>NaN</td>\n",
       "      <td>...</td>\n",
       "      <td>NaN</td>\n",
       "      <td>NaN</td>\n",
       "      <td>NaN</td>\n",
       "      <td>NaN</td>\n",
       "      <td>NaN</td>\n",
       "      <td>NaN</td>\n",
       "      <td>0.007</td>\n",
       "      <td>NaN</td>\n",
       "      <td>NaN</td>\n",
       "      <td>NaN</td>\n",
       "    </tr>\n",
       "    <tr>\n",
       "      <th>2</th>\n",
       "      <td>100009</td>\n",
       "      <td>NaN</td>\n",
       "      <td>NaN</td>\n",
       "      <td>NaN</td>\n",
       "      <td>NaN</td>\n",
       "      <td>NaN</td>\n",
       "      <td>NaN</td>\n",
       "      <td>NaN</td>\n",
       "      <td>NaN</td>\n",
       "      <td>NaN</td>\n",
       "      <td>...</td>\n",
       "      <td>NaN</td>\n",
       "      <td>NaN</td>\n",
       "      <td>NaN</td>\n",
       "      <td>NaN</td>\n",
       "      <td>NaN</td>\n",
       "      <td>NaN</td>\n",
       "      <td>NaN</td>\n",
       "      <td>0.009</td>\n",
       "      <td>NaN</td>\n",
       "      <td>NaN</td>\n",
       "    </tr>\n",
       "    <tr>\n",
       "      <th>3</th>\n",
       "      <td>170157</td>\n",
       "      <td>NaN</td>\n",
       "      <td>1.500000e-07</td>\n",
       "      <td>NaN</td>\n",
       "      <td>NaN</td>\n",
       "      <td>NaN</td>\n",
       "      <td>NaN</td>\n",
       "      <td>NaN</td>\n",
       "      <td>NaN</td>\n",
       "      <td>NaN</td>\n",
       "      <td>...</td>\n",
       "      <td>NaN</td>\n",
       "      <td>NaN</td>\n",
       "      <td>NaN</td>\n",
       "      <td>NaN</td>\n",
       "      <td>NaN</td>\n",
       "      <td>NaN</td>\n",
       "      <td>NaN</td>\n",
       "      <td>NaN</td>\n",
       "      <td>NaN</td>\n",
       "      <td>0.05</td>\n",
       "    </tr>\n",
       "    <tr>\n",
       "      <th>4</th>\n",
       "      <td>102365</td>\n",
       "      <td>NaN</td>\n",
       "      <td>3.500000e-07</td>\n",
       "      <td>NaN</td>\n",
       "      <td>NaN</td>\n",
       "      <td>NaN</td>\n",
       "      <td>NaN</td>\n",
       "      <td>NaN</td>\n",
       "      <td>NaN</td>\n",
       "      <td>NaN</td>\n",
       "      <td>...</td>\n",
       "      <td>NaN</td>\n",
       "      <td>NaN</td>\n",
       "      <td>NaN</td>\n",
       "      <td>NaN</td>\n",
       "      <td>NaN</td>\n",
       "      <td>NaN</td>\n",
       "      <td>0.004</td>\n",
       "      <td>NaN</td>\n",
       "      <td>NaN</td>\n",
       "      <td>NaN</td>\n",
       "    </tr>\n",
       "  </tbody>\n",
       "</table>\n",
       "<p>5 rows × 27 columns</p>\n",
       "</div>"
      ],
      "text/plain": [
       "   Hadm_id  D_Diazepam (Valium)    D_Fentanyl D_Fentanyl (Concentrate)  \\\n",
       "0   165660                  NaN  2.500000e-08                      NaN   \n",
       "1   116367                 0.05  5.500000e-07                      NaN   \n",
       "2   100009                  NaN           NaN                      NaN   \n",
       "3   170157                  NaN  1.500000e-07                      NaN   \n",
       "4   102365                  NaN  3.500000e-07                      NaN   \n",
       "\n",
       "  D_Fentanyl (Push)  D_Haloperidol (Haldol)  D_Hydromorphone (Dilaudid)  \\\n",
       "0               NaN                     NaN                         NaN   \n",
       "1               NaN                     NaN                         NaN   \n",
       "2               NaN                     NaN                         NaN   \n",
       "3               NaN                     NaN                         NaN   \n",
       "4               NaN                     NaN                         NaN   \n",
       "\n",
       "  D_Ketamine  D_Lorazepam (Ativan)  D_Meperidine (Demerol)     ...      \\\n",
       "0        NaN                   NaN                     NaN     ...       \n",
       "1        NaN                   NaN                     NaN     ...       \n",
       "2        NaN                   NaN                     NaN     ...       \n",
       "3        NaN                   NaN                     NaN     ...       \n",
       "4        NaN                   NaN                     NaN     ...       \n",
       "\n",
       "   N_Fentanyl (Push)  N_Haloperidol (Haldol) N_Hydromorphone (Dilaudid)  \\\n",
       "0                NaN                     NaN                        NaN   \n",
       "1                NaN                     NaN                        NaN   \n",
       "2                NaN                     NaN                        NaN   \n",
       "3                NaN                     NaN                        NaN   \n",
       "4                NaN                     NaN                        NaN   \n",
       "\n",
       "   N_Ketamine  N_Lorazepam (Ativan)  N_Meperidine (Demerol)  \\\n",
       "0         NaN                   NaN                     NaN   \n",
       "1         NaN                   NaN                     NaN   \n",
       "2         NaN                   NaN                     NaN   \n",
       "3         NaN                   NaN                     NaN   \n",
       "4         NaN                   NaN                     NaN   \n",
       "\n",
       "  N_Midazolam (Versed) N_Morphine Sulfate  N_Pentobarbital  N_Propofol  \n",
       "0                  NaN              0.015              NaN         NaN  \n",
       "1                0.007                NaN              NaN         NaN  \n",
       "2                  NaN              0.009              NaN         NaN  \n",
       "3                  NaN                NaN              NaN        0.05  \n",
       "4                0.004                NaN              NaN         NaN  \n",
       "\n",
       "[5 rows x 27 columns]"
      ]
     },
     "execution_count": 27,
     "metadata": {},
     "output_type": "execute_result"
    }
   ],
   "source": [
    "bolus_shift_total = pd.concat([t1, cohort_bolus_totals['D_Fentanyl (Concentrate)'], cohort_bolus_totals['D_Fentanyl (Push)'],\n",
    "                              cohort_bolus_totals['D_Haloperidol (Haldol)'], cohort_bolus_totals['D_Hydromorphone (Dilaudid)'],\n",
    "                              cohort_bolus_totals['D_Ketamine'], cohort_bolus_totals['D_Lorazepam (Ativan)'],\n",
    "                              cohort_bolus_totals['D_Meperidine (Demerol)'], cohort_bolus_totals['D_Midazolam (Versed)'],\n",
    "                              cohort_bolus_totals['D_Morphine Sulfate'], cohort_bolus_totals['D_Pentobarbital'],\n",
    "                              cohort_bolus_totals['D_Propofol'], cohort_bolus_totals['N_Diazepam (Valium)'],\n",
    "                               cohort_bolus_totals['N_Fentanyl'], cohort_bolus_totals['N_Fentanyl (Concentrate)'],\n",
    "                              cohort_bolus_totals['N_Fentanyl (Push)'], cohort_bolus_totals['N_Haloperidol (Haldol)'],\n",
    "                              cohort_bolus_totals['N_Hydromorphone (Dilaudid)'], cohort_bolus_totals['N_Ketamine'],\n",
    "                              cohort_bolus_totals['N_Lorazepam (Ativan)'], cohort_bolus_totals['N_Meperidine (Demerol)'],\n",
    "                              cohort_bolus_totals['N_Midazolam (Versed)'], cohort_bolus_totals['N_Morphine Sulfate'],\n",
    "                              cohort_bolus_totals['N_Pentobarbital'], cohort_bolus_totals['N_Propofol']], axis=1)\n",
    "bolus_shift_total.head()\n"
   ]
  },
  {
   "cell_type": "code",
   "execution_count": 30,
   "metadata": {
    "collapsed": true
   },
   "outputs": [],
   "source": [
    "#Saving\n",
    "bolus_shift_total.to_csv('Cohort_Shift_Bolus_Total.csv')"
   ]
  },
  {
   "cell_type": "markdown",
   "metadata": {},
   "source": [
    "IV"
   ]
  },
  {
   "cell_type": "code",
   "execution_count": 10,
   "metadata": {
    "collapsed": false
   },
   "outputs": [
    {
     "data": {
      "text/plain": [
       "0    165660\n",
       "1    116367\n",
       "2    100009\n",
       "3    170157\n",
       "4    102365\n",
       "Name: Hadm_id, dtype: int64"
      ]
     },
     "execution_count": 10,
     "metadata": {},
     "output_type": "execute_result"
    }
   ],
   "source": [
    "cohort_iv_totals['Hadm_id'].head()"
   ]
  },
  {
   "cell_type": "code",
   "execution_count": 12,
   "metadata": {
    "collapsed": false
   },
   "outputs": [
    {
     "name": "stdout",
     "output_type": "stream",
     "text": [
      "165660\n",
      "123253\n",
      "103886\n",
      "152964\n",
      "125325\n",
      "147997\n",
      "137668\n",
      "124365\n",
      "186106\n",
      "195066\n",
      "129565\n",
      "123064\n",
      "173121\n",
      "187978\n",
      "136332\n",
      "106308\n",
      "161109\n",
      "156068\n",
      "144195\n",
      "178012\n",
      "102480\n",
      "152763\n",
      "173297\n",
      "116420\n"
     ]
    }
   ],
   "source": [
    "for i, r in cohort_df.iterrows():\n",
    "    med_data = pless_module.get_med_data(r['hadm_id'])\n",
    "    med_vent_data = pless_module.filter_by_duration(med_data, r['starttime'], r['endtime'])\n",
    "    if med_vent_data.shape[0] > 0:\n",
    "        #med_bolus_df = med_vent_data.loc[med_vent_data['OrderCategoryName'] == '05-Med Bolus']\n",
    "        med_iv_df = med_vent_data.loc[med_vent_data['OrderCategoryName'] == '01-Drips']\n",
    "        if med_iv_df.shape[0] > 0:\n",
    "            iv_shift_totals = pless_module.get_IV_shift_total(med_iv_df)\n",
    "            if iv_shift_totals.shape[0] > 0:\n",
    "                total_iv_dict = dn_totals(iv_shift_totals)\n",
    "                cohort_iv_totals['Hadm_id'].loc[i] = r['hadm_id']\n",
    "                for key, value in total_iv_dict.iteritems():\n",
    "                    cohort_iv_totals[key].loc[i] = value\n",
    "    if i%100 == 0:\n",
    "        print r['hadm_id']\n"
   ]
  },
  {
   "cell_type": "code",
   "execution_count": 13,
   "metadata": {
    "collapsed": false
   },
   "outputs": [
    {
     "data": {
      "text/html": [
       "<div>\n",
       "<table border=\"1\" class=\"dataframe\">\n",
       "  <thead>\n",
       "    <tr style=\"text-align: right;\">\n",
       "      <th></th>\n",
       "      <th>Hadm_id</th>\n",
       "      <th>D_Midazolam (Versed)</th>\n",
       "      <th>D_Fentanyl</th>\n",
       "    </tr>\n",
       "  </thead>\n",
       "  <tbody>\n",
       "    <tr>\n",
       "      <th>0</th>\n",
       "      <td>165660</td>\n",
       "      <td>28.144547</td>\n",
       "      <td>NaN</td>\n",
       "    </tr>\n",
       "    <tr>\n",
       "      <th>1</th>\n",
       "      <td>116367</td>\n",
       "      <td>217.508976</td>\n",
       "      <td>NaN</td>\n",
       "    </tr>\n",
       "    <tr>\n",
       "      <th>2</th>\n",
       "      <td>100009</td>\n",
       "      <td>NaN</td>\n",
       "      <td>NaN</td>\n",
       "    </tr>\n",
       "    <tr>\n",
       "      <th>3</th>\n",
       "      <td>170157</td>\n",
       "      <td>NaN</td>\n",
       "      <td>NaN</td>\n",
       "    </tr>\n",
       "    <tr>\n",
       "      <th>4</th>\n",
       "      <td>102365</td>\n",
       "      <td>13.229167</td>\n",
       "      <td>NaN</td>\n",
       "    </tr>\n",
       "  </tbody>\n",
       "</table>\n",
       "</div>"
      ],
      "text/plain": [
       "   Hadm_id  D_Midazolam (Versed)  D_Fentanyl\n",
       "0   165660             28.144547         NaN\n",
       "1   116367            217.508976         NaN\n",
       "2   100009                   NaN         NaN\n",
       "3   170157                   NaN         NaN\n",
       "4   102365             13.229167         NaN"
      ]
     },
     "execution_count": 13,
     "metadata": {},
     "output_type": "execute_result"
    }
   ],
   "source": [
    "t2 = pd.concat([cohort_iv_totals['Hadm_id'], cohort_iv_totals['D_Midazolam (Versed)'], \n",
    "                cohort_iv_totals['D_Fentanyl']], axis = 1)\n",
    "t2.head()"
   ]
  },
  {
   "cell_type": "code",
   "execution_count": 14,
   "metadata": {
    "collapsed": false
   },
   "outputs": [
    {
     "name": "stdout",
     "output_type": "stream",
     "text": [
      "(2181, 27)\n"
     ]
    },
    {
     "data": {
      "text/html": [
       "<div>\n",
       "<table border=\"1\" class=\"dataframe\">\n",
       "  <thead>\n",
       "    <tr style=\"text-align: right;\">\n",
       "      <th></th>\n",
       "      <th>Hadm_id</th>\n",
       "      <th>D_Diazepam (Valium)</th>\n",
       "      <th>D_Fentanyl</th>\n",
       "      <th>D_Fentanyl (Concentrate)</th>\n",
       "      <th>D_Fentanyl (Push)</th>\n",
       "      <th>D_Haloperidol (Haldol)</th>\n",
       "      <th>D_Hydromorphone (Dilaudid)</th>\n",
       "      <th>D_Ketamine</th>\n",
       "      <th>D_Lorazepam (Ativan)</th>\n",
       "      <th>D_Meperidine (Demerol)</th>\n",
       "      <th>...</th>\n",
       "      <th>N_Fentanyl (Push)</th>\n",
       "      <th>N_Haloperidol (Haldol)</th>\n",
       "      <th>N_Hydromorphone (Dilaudid)</th>\n",
       "      <th>N_Ketamine</th>\n",
       "      <th>N_Lorazepam (Ativan)</th>\n",
       "      <th>N_Meperidine (Demerol)</th>\n",
       "      <th>N_Midazolam (Versed)</th>\n",
       "      <th>N_Morphine Sulfate</th>\n",
       "      <th>N_Pentobarbital</th>\n",
       "      <th>N_Propofol</th>\n",
       "    </tr>\n",
       "  </thead>\n",
       "  <tbody>\n",
       "    <tr>\n",
       "      <th>0</th>\n",
       "      <td>165660</td>\n",
       "      <td>NaN</td>\n",
       "      <td>NaN</td>\n",
       "      <td>2.026411</td>\n",
       "      <td>NaN</td>\n",
       "      <td>NaN</td>\n",
       "      <td>NaN</td>\n",
       "      <td>NaN</td>\n",
       "      <td>NaN</td>\n",
       "      <td>NaN</td>\n",
       "      <td>...</td>\n",
       "      <td>NaN</td>\n",
       "      <td>NaN</td>\n",
       "      <td>NaN</td>\n",
       "      <td>NaN</td>\n",
       "      <td>NaN</td>\n",
       "      <td>NaN</td>\n",
       "      <td>27.514534</td>\n",
       "      <td>NaN</td>\n",
       "      <td>NaN</td>\n",
       "      <td>NaN</td>\n",
       "    </tr>\n",
       "    <tr>\n",
       "      <th>1</th>\n",
       "      <td>116367</td>\n",
       "      <td>NaN</td>\n",
       "      <td>NaN</td>\n",
       "      <td>5.384718</td>\n",
       "      <td>NaN</td>\n",
       "      <td>NaN</td>\n",
       "      <td>NaN</td>\n",
       "      <td>NaN</td>\n",
       "      <td>NaN</td>\n",
       "      <td>NaN</td>\n",
       "      <td>...</td>\n",
       "      <td>NaN</td>\n",
       "      <td>NaN</td>\n",
       "      <td>NaN</td>\n",
       "      <td>NaN</td>\n",
       "      <td>NaN</td>\n",
       "      <td>NaN</td>\n",
       "      <td>299.665153</td>\n",
       "      <td>NaN</td>\n",
       "      <td>NaN</td>\n",
       "      <td>297.811063</td>\n",
       "    </tr>\n",
       "    <tr>\n",
       "      <th>2</th>\n",
       "      <td>100009</td>\n",
       "      <td>NaN</td>\n",
       "      <td>NaN</td>\n",
       "      <td>NaN</td>\n",
       "      <td>NaN</td>\n",
       "      <td>NaN</td>\n",
       "      <td>NaN</td>\n",
       "      <td>NaN</td>\n",
       "      <td>NaN</td>\n",
       "      <td>NaN</td>\n",
       "      <td>...</td>\n",
       "      <td>NaN</td>\n",
       "      <td>NaN</td>\n",
       "      <td>NaN</td>\n",
       "      <td>NaN</td>\n",
       "      <td>NaN</td>\n",
       "      <td>NaN</td>\n",
       "      <td>NaN</td>\n",
       "      <td>NaN</td>\n",
       "      <td>NaN</td>\n",
       "      <td>40.395842</td>\n",
       "    </tr>\n",
       "    <tr>\n",
       "      <th>3</th>\n",
       "      <td>170157</td>\n",
       "      <td>NaN</td>\n",
       "      <td>NaN</td>\n",
       "      <td>NaN</td>\n",
       "      <td>NaN</td>\n",
       "      <td>NaN</td>\n",
       "      <td>NaN</td>\n",
       "      <td>NaN</td>\n",
       "      <td>NaN</td>\n",
       "      <td>NaN</td>\n",
       "      <td>...</td>\n",
       "      <td>NaN</td>\n",
       "      <td>NaN</td>\n",
       "      <td>NaN</td>\n",
       "      <td>NaN</td>\n",
       "      <td>NaN</td>\n",
       "      <td>NaN</td>\n",
       "      <td>3.350000</td>\n",
       "      <td>NaN</td>\n",
       "      <td>NaN</td>\n",
       "      <td>319.387120</td>\n",
       "    </tr>\n",
       "    <tr>\n",
       "      <th>4</th>\n",
       "      <td>102365</td>\n",
       "      <td>NaN</td>\n",
       "      <td>NaN</td>\n",
       "      <td>1.733698</td>\n",
       "      <td>NaN</td>\n",
       "      <td>NaN</td>\n",
       "      <td>NaN</td>\n",
       "      <td>NaN</td>\n",
       "      <td>NaN</td>\n",
       "      <td>NaN</td>\n",
       "      <td>...</td>\n",
       "      <td>NaN</td>\n",
       "      <td>NaN</td>\n",
       "      <td>NaN</td>\n",
       "      <td>NaN</td>\n",
       "      <td>NaN</td>\n",
       "      <td>NaN</td>\n",
       "      <td>12.000000</td>\n",
       "      <td>NaN</td>\n",
       "      <td>NaN</td>\n",
       "      <td>NaN</td>\n",
       "    </tr>\n",
       "  </tbody>\n",
       "</table>\n",
       "<p>5 rows × 27 columns</p>\n",
       "</div>"
      ],
      "text/plain": [
       "   Hadm_id D_Diazepam (Valium)  D_Fentanyl  D_Fentanyl (Concentrate)  \\\n",
       "0   165660                 NaN         NaN                  2.026411   \n",
       "1   116367                 NaN         NaN                  5.384718   \n",
       "2   100009                 NaN         NaN                       NaN   \n",
       "3   170157                 NaN         NaN                       NaN   \n",
       "4   102365                 NaN         NaN                  1.733698   \n",
       "\n",
       "  D_Fentanyl (Push) D_Haloperidol (Haldol)  D_Hydromorphone (Dilaudid)  \\\n",
       "0               NaN                    NaN                         NaN   \n",
       "1               NaN                    NaN                         NaN   \n",
       "2               NaN                    NaN                         NaN   \n",
       "3               NaN                    NaN                         NaN   \n",
       "4               NaN                    NaN                         NaN   \n",
       "\n",
       "   D_Ketamine  D_Lorazepam (Ativan) D_Meperidine (Demerol)     ...      \\\n",
       "0         NaN                   NaN                    NaN     ...       \n",
       "1         NaN                   NaN                    NaN     ...       \n",
       "2         NaN                   NaN                    NaN     ...       \n",
       "3         NaN                   NaN                    NaN     ...       \n",
       "4         NaN                   NaN                    NaN     ...       \n",
       "\n",
       "   N_Fentanyl (Push)  N_Haloperidol (Haldol)  N_Hydromorphone (Dilaudid)  \\\n",
       "0                NaN                     NaN                         NaN   \n",
       "1                NaN                     NaN                         NaN   \n",
       "2                NaN                     NaN                         NaN   \n",
       "3                NaN                     NaN                         NaN   \n",
       "4                NaN                     NaN                         NaN   \n",
       "\n",
       "   N_Ketamine N_Lorazepam (Ativan)  N_Meperidine (Demerol)  \\\n",
       "0         NaN                  NaN                     NaN   \n",
       "1         NaN                  NaN                     NaN   \n",
       "2         NaN                  NaN                     NaN   \n",
       "3         NaN                  NaN                     NaN   \n",
       "4         NaN                  NaN                     NaN   \n",
       "\n",
       "   N_Midazolam (Versed) N_Morphine Sulfate N_Pentobarbital  N_Propofol  \n",
       "0             27.514534                NaN             NaN         NaN  \n",
       "1            299.665153                NaN             NaN  297.811063  \n",
       "2                   NaN                NaN             NaN   40.395842  \n",
       "3              3.350000                NaN             NaN  319.387120  \n",
       "4             12.000000                NaN             NaN         NaN  \n",
       "\n",
       "[5 rows x 27 columns]"
      ]
     },
     "execution_count": 14,
     "metadata": {},
     "output_type": "execute_result"
    }
   ],
   "source": [
    "iv_shift_cohort = pd.concat([cohort_iv_totals['Hadm_id'], cohort_iv_totals['D_Diazepam (Valium)'],\n",
    "                            cohort_iv_totals['D_Fentanyl'], cohort_iv_totals['D_Fentanyl (Concentrate)'],\n",
    "                            cohort_iv_totals['D_Fentanyl (Push)'], cohort_iv_totals['D_Haloperidol (Haldol)'], \n",
    "                             cohort_iv_totals['D_Hydromorphone (Dilaudid)'], cohort_iv_totals['D_Ketamine'],\n",
    "                             cohort_iv_totals['D_Lorazepam (Ativan)'], cohort_iv_totals['D_Meperidine (Demerol)'], \n",
    "                             cohort_iv_totals['D_Midazolam (Versed)'], cohort_iv_totals['D_Morphine Sulfate'], \n",
    "                             cohort_iv_totals['D_Pentobarbital'], cohort_iv_totals['D_Propofol'], \n",
    "                             cohort_iv_totals['N_Diazepam (Valium)'], cohort_iv_totals['N_Fentanyl'], \n",
    "                             cohort_iv_totals['N_Fentanyl (Concentrate)'], cohort_iv_totals['N_Fentanyl (Push)'], \n",
    "                             cohort_iv_totals['N_Haloperidol (Haldol)'], cohort_iv_totals['N_Hydromorphone (Dilaudid)'], \n",
    "                             cohort_iv_totals['N_Ketamine'], cohort_iv_totals['N_Lorazepam (Ativan)'], \n",
    "                             cohort_iv_totals['N_Meperidine (Demerol)'], cohort_iv_totals['N_Midazolam (Versed)'], \n",
    "                             cohort_iv_totals['N_Morphine Sulfate'], cohort_iv_totals['N_Pentobarbital'], \n",
    "                             cohort_iv_totals['N_Propofol']], axis = 1)\n",
    "print iv_shift_cohort.shape\n",
    "iv_shift_cohort.head()"
   ]
  },
  {
   "cell_type": "code",
   "execution_count": 15,
   "metadata": {
    "collapsed": true
   },
   "outputs": [],
   "source": [
    "#Saving\n",
    "iv_shift_cohort.to_csv('Cohort_Shift_IV_Total.csv')"
   ]
  },
  {
   "cell_type": "markdown",
   "metadata": {},
   "source": [
    "### Reading a bolus shift file"
   ]
  },
  {
   "cell_type": "code",
   "execution_count": 14,
   "metadata": {
    "collapsed": false
   },
   "outputs": [
    {
     "data": {
      "text/html": [
       "<div>\n",
       "<table border=\"1\" class=\"dataframe\">\n",
       "  <thead>\n",
       "    <tr style=\"text-align: right;\">\n",
       "      <th></th>\n",
       "      <th>starttime</th>\n",
       "      <th>Propofol</th>\n",
       "    </tr>\n",
       "  </thead>\n",
       "  <tbody>\n",
       "    <tr>\n",
       "      <th>0</th>\n",
       "      <td>2132-01-01 07:00:00</td>\n",
       "      <td>12.167166</td>\n",
       "    </tr>\n",
       "    <tr>\n",
       "      <th>1</th>\n",
       "      <td>2132-01-01 19:00:00</td>\n",
       "      <td>69.860648</td>\n",
       "    </tr>\n",
       "    <tr>\n",
       "      <th>2</th>\n",
       "      <td>2132-01-02 07:00:00</td>\n",
       "      <td>100.266741</td>\n",
       "    </tr>\n",
       "    <tr>\n",
       "      <th>3</th>\n",
       "      <td>2132-01-02 19:00:00</td>\n",
       "      <td>32.313714</td>\n",
       "    </tr>\n",
       "  </tbody>\n",
       "</table>\n",
       "</div>"
      ],
      "text/plain": [
       "            starttime    Propofol\n",
       "0 2132-01-01 07:00:00   12.167166\n",
       "1 2132-01-01 19:00:00   69.860648\n",
       "2 2132-01-02 07:00:00  100.266741\n",
       "3 2132-01-02 19:00:00   32.313714"
      ]
     },
     "execution_count": 14,
     "metadata": {},
     "output_type": "execute_result"
    }
   ],
   "source": [
    "fname = 'Med_data/IV_List_194358.csv'\n",
    "bolus_example = pd.read_csv(fname, parse_dates=['starttime'])\n",
    "bolus_example"
   ]
  },
  {
   "cell_type": "code",
   "execution_count": 15,
   "metadata": {
    "collapsed": false
   },
   "outputs": [
    {
     "data": {
      "text/plain": [
       "7"
      ]
     },
     "execution_count": 15,
     "metadata": {},
     "output_type": "execute_result"
    }
   ],
   "source": [
    "bolus_example['starttime'].iloc[0].hour"
   ]
  },
  {
   "cell_type": "code",
   "execution_count": 16,
   "metadata": {
    "collapsed": false
   },
   "outputs": [
    {
     "data": {
      "text/html": [
       "<div>\n",
       "<table border=\"1\" class=\"dataframe\">\n",
       "  <thead>\n",
       "    <tr style=\"text-align: right;\">\n",
       "      <th></th>\n",
       "      <th>starttime</th>\n",
       "      <th>Propofol</th>\n",
       "    </tr>\n",
       "    <tr>\n",
       "      <th>starttime</th>\n",
       "      <th></th>\n",
       "      <th></th>\n",
       "    </tr>\n",
       "  </thead>\n",
       "  <tbody>\n",
       "    <tr>\n",
       "      <th>2132-01-01 07:00:00</th>\n",
       "      <td>2132-01-01 07:00:00</td>\n",
       "      <td>12.167166</td>\n",
       "    </tr>\n",
       "    <tr>\n",
       "      <th>2132-01-01 19:00:00</th>\n",
       "      <td>2132-01-01 19:00:00</td>\n",
       "      <td>69.860648</td>\n",
       "    </tr>\n",
       "    <tr>\n",
       "      <th>2132-01-02 07:00:00</th>\n",
       "      <td>2132-01-02 07:00:00</td>\n",
       "      <td>100.266741</td>\n",
       "    </tr>\n",
       "    <tr>\n",
       "      <th>2132-01-02 19:00:00</th>\n",
       "      <td>2132-01-02 19:00:00</td>\n",
       "      <td>32.313714</td>\n",
       "    </tr>\n",
       "  </tbody>\n",
       "</table>\n",
       "</div>"
      ],
      "text/plain": [
       "                              starttime    Propofol\n",
       "starttime                                          \n",
       "2132-01-01 07:00:00 2132-01-01 07:00:00   12.167166\n",
       "2132-01-01 19:00:00 2132-01-01 19:00:00   69.860648\n",
       "2132-01-02 07:00:00 2132-01-02 07:00:00  100.266741\n",
       "2132-01-02 19:00:00 2132-01-02 19:00:00   32.313714"
      ]
     },
     "execution_count": 16,
     "metadata": {},
     "output_type": "execute_result"
    }
   ],
   "source": [
    "bolus_example.set_index('starttime', drop = False, inplace=True)\n",
    "bolus_example"
   ]
  },
  {
   "cell_type": "code",
   "execution_count": 17,
   "metadata": {
    "collapsed": true
   },
   "outputs": [],
   "source": [
    "bolus_day = bolus_example[bolus_example.index.hour == 7]"
   ]
  },
  {
   "cell_type": "code",
   "execution_count": 19,
   "metadata": {
    "collapsed": false
   },
   "outputs": [
    {
     "data": {
      "text/plain": [
       "112.43390759358539"
      ]
     },
     "execution_count": 19,
     "metadata": {},
     "output_type": "execute_result"
    }
   ],
   "source": [
    "bolus_day['Propofol'].sum()"
   ]
  },
  {
   "cell_type": "code",
   "execution_count": 25,
   "metadata": {
    "collapsed": false
   },
   "outputs": [
    {
     "data": {
      "text/plain": [
       "True"
      ]
     },
     "execution_count": 25,
     "metadata": {},
     "output_type": "execute_result"
    }
   ],
   "source": [
    "type(bolus_day.index[0]) is pd.tslib.Timestamp"
   ]
  },
  {
   "cell_type": "code",
   "execution_count": 21,
   "metadata": {
    "collapsed": false
   },
   "outputs": [
    {
     "data": {
      "text/plain": [
       "pandas.tslib.Timestamp"
      ]
     },
     "execution_count": 21,
     "metadata": {},
     "output_type": "execute_result"
    }
   ],
   "source": [
    "type(bolus_day.index[0])"
   ]
  },
  {
   "cell_type": "code",
   "execution_count": null,
   "metadata": {
    "collapsed": true
   },
   "outputs": [],
   "source": []
  }
 ],
 "metadata": {
  "kernelspec": {
   "display_name": "Python [conda env:py27]",
   "language": "python",
   "name": "conda-env-py27-py"
  },
  "language_info": {
   "codemirror_mode": {
    "name": "ipython",
    "version": 2
   },
   "file_extension": ".py",
   "mimetype": "text/x-python",
   "name": "python",
   "nbconvert_exporter": "python",
   "pygments_lexer": "ipython2",
   "version": "2.7.13"
  }
 },
 "nbformat": 4,
 "nbformat_minor": 2
}
