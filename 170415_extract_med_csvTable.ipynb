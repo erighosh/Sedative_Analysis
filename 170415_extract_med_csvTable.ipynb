{
 "cells": [
  {
   "cell_type": "markdown",
   "metadata": {},
   "source": [
    "# Script to read Input Events Table & extract sedative data\n",
    "- Erina Ghosh 2017/04/15"
   ]
  },
  {
   "cell_type": "code",
   "execution_count": 1,
   "metadata": {
    "collapsed": true
   },
   "outputs": [],
   "source": [
    "import pandas as pd\n",
    "import numpy as np\n",
    "from datetime import datetime, timedelta\n",
    "import matplotlib.pyplot as plt\n",
    "%matplotlib inline"
   ]
  },
  {
   "cell_type": "markdown",
   "metadata": {},
   "source": [
    "## Reading InputEvents_mv"
   ]
  },
  {
   "cell_type": "code",
   "execution_count": 2,
   "metadata": {
    "collapsed": false
   },
   "outputs": [
    {
     "data": {
      "text/plain": [
       "(3618991, 31)"
      ]
     },
     "execution_count": 2,
     "metadata": {},
     "output_type": "execute_result"
    }
   ],
   "source": [
    "inp_evs_df = pd.read_csv('INPUTEVENTS_MV.csv', parse_dates=['STARTTIME', 'ENDTIME'])\n",
    "inp_evs_df.shape"
   ]
  },
  {
   "cell_type": "code",
   "execution_count": 3,
   "metadata": {
    "collapsed": false
   },
   "outputs": [
    {
     "data": {
      "text/html": [
       "<div>\n",
       "<table border=\"1\" class=\"dataframe\">\n",
       "  <thead>\n",
       "    <tr style=\"text-align: right;\">\n",
       "      <th></th>\n",
       "      <th>ROW_ID</th>\n",
       "      <th>SUBJECT_ID</th>\n",
       "      <th>HADM_ID</th>\n",
       "      <th>ICUSTAY_ID</th>\n",
       "      <th>STARTTIME</th>\n",
       "      <th>ENDTIME</th>\n",
       "      <th>ITEMID</th>\n",
       "      <th>AMOUNT</th>\n",
       "      <th>AMOUNTUOM</th>\n",
       "      <th>RATE</th>\n",
       "      <th>...</th>\n",
       "      <th>TOTALAMOUNTUOM</th>\n",
       "      <th>ISOPENBAG</th>\n",
       "      <th>CONTINUEINNEXTDEPT</th>\n",
       "      <th>CANCELREASON</th>\n",
       "      <th>STATUSDESCRIPTION</th>\n",
       "      <th>COMMENTS_EDITEDBY</th>\n",
       "      <th>COMMENTS_CANCELEDBY</th>\n",
       "      <th>COMMENTS_DATE</th>\n",
       "      <th>ORIGINALAMOUNT</th>\n",
       "      <th>ORIGINALRATE</th>\n",
       "    </tr>\n",
       "  </thead>\n",
       "  <tbody>\n",
       "    <tr>\n",
       "      <th>0</th>\n",
       "      <td>241</td>\n",
       "      <td>27063</td>\n",
       "      <td>139787</td>\n",
       "      <td>223259.0</td>\n",
       "      <td>2133-02-05 06:29:00</td>\n",
       "      <td>2133-02-05 08:45:00</td>\n",
       "      <td>225166</td>\n",
       "      <td>6.774532</td>\n",
       "      <td>mEq</td>\n",
       "      <td>NaN</td>\n",
       "      <td>...</td>\n",
       "      <td>ml</td>\n",
       "      <td>0</td>\n",
       "      <td>0</td>\n",
       "      <td>1</td>\n",
       "      <td>Rewritten</td>\n",
       "      <td>NaN</td>\n",
       "      <td>RN</td>\n",
       "      <td>2133-02-05 12:52:00</td>\n",
       "      <td>10.000000</td>\n",
       "      <td>0.050000</td>\n",
       "    </tr>\n",
       "    <tr>\n",
       "      <th>1</th>\n",
       "      <td>242</td>\n",
       "      <td>27063</td>\n",
       "      <td>139787</td>\n",
       "      <td>223259.0</td>\n",
       "      <td>2133-02-05 05:34:00</td>\n",
       "      <td>2133-02-05 06:30:00</td>\n",
       "      <td>225944</td>\n",
       "      <td>28.132997</td>\n",
       "      <td>ml</td>\n",
       "      <td>30.142497</td>\n",
       "      <td>...</td>\n",
       "      <td>ml</td>\n",
       "      <td>0</td>\n",
       "      <td>0</td>\n",
       "      <td>0</td>\n",
       "      <td>FinishedRunning</td>\n",
       "      <td>NaN</td>\n",
       "      <td>NaN</td>\n",
       "      <td>NaN</td>\n",
       "      <td>28.132998</td>\n",
       "      <td>30.255817</td>\n",
       "    </tr>\n",
       "    <tr>\n",
       "      <th>2</th>\n",
       "      <td>243</td>\n",
       "      <td>27063</td>\n",
       "      <td>139787</td>\n",
       "      <td>223259.0</td>\n",
       "      <td>2133-02-05 05:34:00</td>\n",
       "      <td>2133-02-05 06:30:00</td>\n",
       "      <td>225166</td>\n",
       "      <td>2.813300</td>\n",
       "      <td>mEq</td>\n",
       "      <td>NaN</td>\n",
       "      <td>...</td>\n",
       "      <td>ml</td>\n",
       "      <td>0</td>\n",
       "      <td>0</td>\n",
       "      <td>0</td>\n",
       "      <td>FinishedRunning</td>\n",
       "      <td>NaN</td>\n",
       "      <td>NaN</td>\n",
       "      <td>NaN</td>\n",
       "      <td>2.813300</td>\n",
       "      <td>0.050426</td>\n",
       "    </tr>\n",
       "  </tbody>\n",
       "</table>\n",
       "<p>3 rows × 31 columns</p>\n",
       "</div>"
      ],
      "text/plain": [
       "   ROW_ID  SUBJECT_ID  HADM_ID  ICUSTAY_ID           STARTTIME  \\\n",
       "0     241       27063   139787    223259.0 2133-02-05 06:29:00   \n",
       "1     242       27063   139787    223259.0 2133-02-05 05:34:00   \n",
       "2     243       27063   139787    223259.0 2133-02-05 05:34:00   \n",
       "\n",
       "              ENDTIME  ITEMID     AMOUNT AMOUNTUOM       RATE      ...       \\\n",
       "0 2133-02-05 08:45:00  225166   6.774532       mEq        NaN      ...        \n",
       "1 2133-02-05 06:30:00  225944  28.132997        ml  30.142497      ...        \n",
       "2 2133-02-05 06:30:00  225166   2.813300       mEq        NaN      ...        \n",
       "\n",
       "  TOTALAMOUNTUOM ISOPENBAG  CONTINUEINNEXTDEPT  CANCELREASON  \\\n",
       "0             ml         0                   0             1   \n",
       "1             ml         0                   0             0   \n",
       "2             ml         0                   0             0   \n",
       "\n",
       "   STATUSDESCRIPTION COMMENTS_EDITEDBY COMMENTS_CANCELEDBY  \\\n",
       "0          Rewritten               NaN                  RN   \n",
       "1    FinishedRunning               NaN                 NaN   \n",
       "2    FinishedRunning               NaN                 NaN   \n",
       "\n",
       "         COMMENTS_DATE ORIGINALAMOUNT  ORIGINALRATE  \n",
       "0  2133-02-05 12:52:00      10.000000      0.050000  \n",
       "1                  NaN      28.132998     30.255817  \n",
       "2                  NaN       2.813300      0.050426  \n",
       "\n",
       "[3 rows x 31 columns]"
      ]
     },
     "execution_count": 3,
     "metadata": {},
     "output_type": "execute_result"
    }
   ],
   "source": [
    "inp_evs_df.head(3)"
   ]
  },
  {
   "cell_type": "markdown",
   "metadata": {},
   "source": [
    "### Keeping selected columns:\n",
    "    ROW_ID\tINT\n",
    "    SUBJECT_ID\tINT\n",
    "    HADM_ID\tINT\n",
    "    ICUSTAY_ID\tINT\n",
    "    STARTTIME\tTIMESTAMP(0)\n",
    "    ENDTIME\tTIMESTAMP(0)\n",
    "    ITEMID\tINT\n",
    "    AMOUNT\tDOUBLE PRECISION\n",
    "    AMOUNTUOM\tVARCHAR(30)\n",
    "    RATE\tDOUBLE PRECISION\n",
    "    RATEUOM\n",
    "    ORDERID\tBIGINT\n",
    "    LINKORDERID\tBIGINT\n",
    "    ORDERCATEGORYNAME\tVARCHAR(100)\n",
    "    SECONDARYORDERCATEGORYNAME\tVARCHAR(100)\n",
    "    ORDERCOMPONENTTYPEDESCRIPTION\tVARCHAR(200)\n",
    "    ORDERCATEGORYDESCRIPTION\tVARCHAR(50)\n",
    "    PATIENTWEIGHT\tDOUBLE PRECISION\n",
    "    TOTALAMOUNT\tDOUBLE PRECISION\n",
    "    TOTALAMOUNTUOM\tVARCHAR(50)\n",
    "    STATUSDESCRIPTION\tVARCHAR(30)"
   ]
  },
  {
   "cell_type": "code",
   "execution_count": 5,
   "metadata": {
    "collapsed": false
   },
   "outputs": [
    {
     "data": {
      "text/plain": [
       "(3618991, 21)"
      ]
     },
     "execution_count": 5,
     "metadata": {},
     "output_type": "execute_result"
    }
   ],
   "source": [
    "inp_evs_df = inp_evs_df[['ROW_ID', 'SUBJECT_ID', 'HADM_ID', 'ICUSTAY_ID', \n",
    "                             'STARTTIME', 'ENDTIME', 'ITEMID', 'AMOUNT', 'AMOUNTUOM', \n",
    "                             'RATE', 'RATEUOM', 'ORDERID', 'LINKORDERID', 'ORDERCATEGORYNAME',\n",
    "                             'SECONDARYORDERCATEGORYNAME', 'ORDERCOMPONENTTYPEDESCRIPTION', \n",
    "                             'ORDERCATEGORYDESCRIPTION', 'PATIENTWEIGHT', 'TOTALAMOUNT', \n",
    "                             'TOTALAMOUNTUOM', 'STATUSDESCRIPTION']].copy()\n",
    "inp_evs_df.shape"
   ]
  },
  {
   "cell_type": "markdown",
   "metadata": {},
   "source": [
    "### Selecting rows with sedatives & neuromuscular blockers:\n",
    "    221385,Lorazepam (Ativan)\n",
    "    221623,Diazepam (Valium)\n",
    "    221668,Midazolam (Versed)\n",
    "    221744,Fentanyl\n",
    "    221833,Hydromorphone (Dilaudid)\n",
    "    222168,Propofol\n",
    "    225972,Fentanyl (Push)\n",
    "    225973,Meperidine (Demerol)\n",
    "    225942,Fentanyl (Concentrate)\n",
    "    225154,Morphine Sulfate\n",
    "    225150,Dexmedetomidine (Precedex)\n",
    "    221555,Cisatracurium\n",
    "    222062,Vecuronium\n",
    "    227520,Methadone Hydrochloride"
   ]
  },
  {
   "cell_type": "code",
   "execution_count": 12,
   "metadata": {
    "collapsed": false
   },
   "outputs": [],
   "source": [
    "med_list = pd.read_csv('pain_med_list.csv')\n",
    "med_dict = pd.DataFrame.to_dict(med_list, orient='records')\n"
   ]
  },
  {
   "cell_type": "code",
   "execution_count": 20,
   "metadata": {
    "collapsed": false
   },
   "outputs": [],
   "source": [
    "med_dict={}\n",
    "for i, r in med_list.iterrows():\n",
    "    med_dict[r['itemid']] = r['label']\n"
   ]
  },
  {
   "cell_type": "code",
   "execution_count": 23,
   "metadata": {
    "collapsed": false
   },
   "outputs": [
    {
     "data": {
      "text/plain": [
       "False"
      ]
     },
     "execution_count": 23,
     "metadata": {},
     "output_type": "execute_result"
    }
   ],
   "source": [
    "221384 in med_dict"
   ]
  },
  {
   "cell_type": "code",
   "execution_count": 27,
   "metadata": {
    "collapsed": false
   },
   "outputs": [
    {
     "data": {
      "text/plain": [
       "225166"
      ]
     },
     "execution_count": 27,
     "metadata": {},
     "output_type": "execute_result"
    }
   ],
   "source": [
    "(inp_evs_df['ITEMID'].iloc[0])"
   ]
  },
  {
   "cell_type": "code",
   "execution_count": 31,
   "metadata": {
    "collapsed": false
   },
   "outputs": [
    {
     "ename": "KeyboardInterrupt",
     "evalue": "",
     "output_type": "error",
     "traceback": [
      "\u001b[0;31m---------------------------------------------------------------------------\u001b[0m",
      "\u001b[0;31mKeyboardInterrupt\u001b[0m                         Traceback (most recent call last)",
      "\u001b[0;32m<ipython-input-31-8b271a00b11c>\u001b[0m in \u001b[0;36m<module>\u001b[0;34m()\u001b[0m\n\u001b[1;32m      4\u001b[0m     \u001b[0;32mif\u001b[0m \u001b[0mr\u001b[0m\u001b[0;34m[\u001b[0m\u001b[0;34m'ITEMID'\u001b[0m\u001b[0;34m]\u001b[0m \u001b[0;32min\u001b[0m \u001b[0mmed_dict\u001b[0m\u001b[0;34m:\u001b[0m\u001b[0;34m\u001b[0m\u001b[0m\n\u001b[1;32m      5\u001b[0m         \u001b[0minp_evs_df\u001b[0m\u001b[0;34m.\u001b[0m\u001b[0mix\u001b[0m\u001b[0;34m[\u001b[0m\u001b[0mi\u001b[0m\u001b[0;34m,\u001b[0m \u001b[0;34m'LABEL'\u001b[0m\u001b[0;34m]\u001b[0m \u001b[0;34m=\u001b[0m \u001b[0mmed_dict\u001b[0m\u001b[0;34m[\u001b[0m\u001b[0mr\u001b[0m\u001b[0;34m[\u001b[0m\u001b[0;34m'ITEMID'\u001b[0m\u001b[0;34m]\u001b[0m\u001b[0;34m]\u001b[0m\u001b[0;34m\u001b[0m\u001b[0m\n\u001b[0;32m----> 6\u001b[0;31m         \u001b[0minp_evs_df\u001b[0m\u001b[0;34m.\u001b[0m\u001b[0mix\u001b[0m\u001b[0;34m[\u001b[0m\u001b[0mi\u001b[0m\u001b[0;34m,\u001b[0m \u001b[0;34m'sed_flag'\u001b[0m\u001b[0;34m]\u001b[0m \u001b[0;34m=\u001b[0m \u001b[0;36m1\u001b[0m\u001b[0;34m\u001b[0m\u001b[0m\n\u001b[0m",
      "\u001b[0;32m//anaconda/envs/py27/lib/python2.7/site-packages/pandas/core/indexing.pyc\u001b[0m in \u001b[0;36m__setitem__\u001b[0;34m(self, key, value)\u001b[0m\n\u001b[1;32m    139\u001b[0m             \u001b[0mkey\u001b[0m \u001b[0;34m=\u001b[0m \u001b[0mcom\u001b[0m\u001b[0;34m.\u001b[0m\u001b[0m_apply_if_callable\u001b[0m\u001b[0;34m(\u001b[0m\u001b[0mkey\u001b[0m\u001b[0;34m,\u001b[0m \u001b[0mself\u001b[0m\u001b[0;34m.\u001b[0m\u001b[0mobj\u001b[0m\u001b[0;34m)\u001b[0m\u001b[0;34m\u001b[0m\u001b[0m\n\u001b[1;32m    140\u001b[0m         \u001b[0mindexer\u001b[0m \u001b[0;34m=\u001b[0m \u001b[0mself\u001b[0m\u001b[0;34m.\u001b[0m\u001b[0m_get_setitem_indexer\u001b[0m\u001b[0;34m(\u001b[0m\u001b[0mkey\u001b[0m\u001b[0;34m)\u001b[0m\u001b[0;34m\u001b[0m\u001b[0m\n\u001b[0;32m--> 141\u001b[0;31m         \u001b[0mself\u001b[0m\u001b[0;34m.\u001b[0m\u001b[0m_setitem_with_indexer\u001b[0m\u001b[0;34m(\u001b[0m\u001b[0mindexer\u001b[0m\u001b[0;34m,\u001b[0m \u001b[0mvalue\u001b[0m\u001b[0;34m)\u001b[0m\u001b[0;34m\u001b[0m\u001b[0m\n\u001b[0m\u001b[1;32m    142\u001b[0m \u001b[0;34m\u001b[0m\u001b[0m\n\u001b[1;32m    143\u001b[0m     \u001b[0;32mdef\u001b[0m \u001b[0m_has_valid_type\u001b[0m\u001b[0;34m(\u001b[0m\u001b[0mself\u001b[0m\u001b[0;34m,\u001b[0m \u001b[0mk\u001b[0m\u001b[0;34m,\u001b[0m \u001b[0maxis\u001b[0m\u001b[0;34m)\u001b[0m\u001b[0;34m:\u001b[0m\u001b[0;34m\u001b[0m\u001b[0m\n",
      "\u001b[0;32m//anaconda/envs/py27/lib/python2.7/site-packages/pandas/core/indexing.pyc\u001b[0m in \u001b[0;36m_setitem_with_indexer\u001b[0;34m(self, indexer, value)\u001b[0m\n\u001b[1;32m    546\u001b[0m                 \u001b[0;31m# scalar\u001b[0m\u001b[0;34m\u001b[0m\u001b[0;34m\u001b[0m\u001b[0m\n\u001b[1;32m    547\u001b[0m                 \u001b[0;32mfor\u001b[0m \u001b[0mitem\u001b[0m \u001b[0;32min\u001b[0m \u001b[0mlabels\u001b[0m\u001b[0;34m:\u001b[0m\u001b[0;34m\u001b[0m\u001b[0m\n\u001b[0;32m--> 548\u001b[0;31m                     \u001b[0msetter\u001b[0m\u001b[0;34m(\u001b[0m\u001b[0mitem\u001b[0m\u001b[0;34m,\u001b[0m \u001b[0mvalue\u001b[0m\u001b[0;34m)\u001b[0m\u001b[0;34m\u001b[0m\u001b[0m\n\u001b[0m\u001b[1;32m    549\u001b[0m \u001b[0;34m\u001b[0m\u001b[0m\n\u001b[1;32m    550\u001b[0m         \u001b[0;32melse\u001b[0m\u001b[0;34m:\u001b[0m\u001b[0;34m\u001b[0m\u001b[0m\n",
      "\u001b[0;32m//anaconda/envs/py27/lib/python2.7/site-packages/pandas/core/indexing.pyc\u001b[0m in \u001b[0;36msetter\u001b[0;34m(item, v)\u001b[0m\n\u001b[1;32m    475\u001b[0m \u001b[0;34m\u001b[0m\u001b[0m\n\u001b[1;32m    476\u001b[0m                 \u001b[0;31m# reset the sliced object if unique\u001b[0m\u001b[0;34m\u001b[0m\u001b[0;34m\u001b[0m\u001b[0m\n\u001b[0;32m--> 477\u001b[0;31m                 \u001b[0mself\u001b[0m\u001b[0;34m.\u001b[0m\u001b[0mobj\u001b[0m\u001b[0;34m[\u001b[0m\u001b[0mitem\u001b[0m\u001b[0;34m]\u001b[0m \u001b[0;34m=\u001b[0m \u001b[0ms\u001b[0m\u001b[0;34m\u001b[0m\u001b[0m\n\u001b[0m\u001b[1;32m    478\u001b[0m \u001b[0;34m\u001b[0m\u001b[0m\n\u001b[1;32m    479\u001b[0m             \u001b[0;32mdef\u001b[0m \u001b[0mcan_do_equal_len\u001b[0m\u001b[0;34m(\u001b[0m\u001b[0;34m)\u001b[0m\u001b[0;34m:\u001b[0m\u001b[0;34m\u001b[0m\u001b[0m\n",
      "\u001b[0;32m//anaconda/envs/py27/lib/python2.7/site-packages/pandas/core/frame.pyc\u001b[0m in \u001b[0;36m__setitem__\u001b[0;34m(self, key, value)\u001b[0m\n\u001b[1;32m   2417\u001b[0m         \u001b[0;32melse\u001b[0m\u001b[0;34m:\u001b[0m\u001b[0;34m\u001b[0m\u001b[0m\n\u001b[1;32m   2418\u001b[0m             \u001b[0;31m# set column\u001b[0m\u001b[0;34m\u001b[0m\u001b[0;34m\u001b[0m\u001b[0m\n\u001b[0;32m-> 2419\u001b[0;31m             \u001b[0mself\u001b[0m\u001b[0;34m.\u001b[0m\u001b[0m_set_item\u001b[0m\u001b[0;34m(\u001b[0m\u001b[0mkey\u001b[0m\u001b[0;34m,\u001b[0m \u001b[0mvalue\u001b[0m\u001b[0;34m)\u001b[0m\u001b[0;34m\u001b[0m\u001b[0m\n\u001b[0m\u001b[1;32m   2420\u001b[0m \u001b[0;34m\u001b[0m\u001b[0m\n\u001b[1;32m   2421\u001b[0m     \u001b[0;32mdef\u001b[0m \u001b[0m_setitem_slice\u001b[0m\u001b[0;34m(\u001b[0m\u001b[0mself\u001b[0m\u001b[0;34m,\u001b[0m \u001b[0mkey\u001b[0m\u001b[0;34m,\u001b[0m \u001b[0mvalue\u001b[0m\u001b[0;34m)\u001b[0m\u001b[0;34m:\u001b[0m\u001b[0;34m\u001b[0m\u001b[0m\n",
      "\u001b[0;31mKeyboardInterrupt\u001b[0m: "
     ]
    }
   ],
   "source": [
    "inp_evs_df['sed_flag'] = 0\n",
    "inp_evs_df['LABEL'] = np.NAN\n",
    "for i, r in inp_evs_df.iterrows():\n",
    "    if r['ITEMID'] in med_dict:\n",
    "        inp_evs_df.ix[i, 'LABEL'] = med_dict[r['ITEMID']]\n",
    "        inp_evs_df.ix[i, 'sed_flag'] = 1\n"
   ]
  },
  {
   "cell_type": "code",
   "execution_count": 33,
   "metadata": {
    "collapsed": false
   },
   "outputs": [
    {
     "data": {
      "text/plain": [
       "(596, 23)"
      ]
     },
     "execution_count": 33,
     "metadata": {},
     "output_type": "execute_result"
    }
   ],
   "source": [
    "inp_evs_df.loc[inp_evs_df['ITEMID'] == 225973].shape"
   ]
  },
  {
   "cell_type": "code",
   "execution_count": 34,
   "metadata": {
    "collapsed": false
   },
   "outputs": [
    {
     "name": "stderr",
     "output_type": "stream",
     "text": [
      "/anaconda/envs/py27/lib/python2.7/site-packages/ipykernel/__main__.py:5: SettingWithCopyWarning: \n",
      "A value is trying to be set on a copy of a slice from a DataFrame.\n",
      "Try using .loc[row_indexer,col_indexer] = value instead\n",
      "\n",
      "See the caveats in the documentation: http://pandas.pydata.org/pandas-docs/stable/indexing.html#indexing-view-versus-copy\n"
     ]
    },
    {
     "data": {
      "text/plain": [
       "(506114, 23)"
      ]
     },
     "execution_count": 34,
     "metadata": {},
     "output_type": "execute_result"
    }
   ],
   "source": [
    "inp_med_df = pd.DataFrame(columns= inp_evs_df.columns)\n",
    "inp_med_df['LABEL'] = np.NAN\n",
    "for k, v in med_dict.iteritems():\n",
    "    med_df = inp_evs_df.loc[inp_evs_df['ITEMID'] == k]\n",
    "    med_df['LABEL'] = v\n",
    "    inp_med_df = pd.concat([inp_med_df, med_df])\n",
    "inp_med_df.shape"
   ]
  },
  {
   "cell_type": "markdown",
   "metadata": {},
   "source": [
    "### Number of rows with sedative/ neuromuscular blockers "
   ]
  },
  {
   "cell_type": "code",
   "execution_count": 35,
   "metadata": {
    "collapsed": false
   },
   "outputs": [
    {
     "data": {
      "text/html": [
       "<div>\n",
       "<table border=\"1\" class=\"dataframe\">\n",
       "  <thead>\n",
       "    <tr style=\"text-align: right;\">\n",
       "      <th></th>\n",
       "      <th>ROW_ID</th>\n",
       "      <th>SUBJECT_ID</th>\n",
       "      <th>HADM_ID</th>\n",
       "      <th>ICUSTAY_ID</th>\n",
       "      <th>STARTTIME</th>\n",
       "      <th>ENDTIME</th>\n",
       "      <th>ITEMID</th>\n",
       "      <th>AMOUNT</th>\n",
       "      <th>AMOUNTUOM</th>\n",
       "      <th>RATE</th>\n",
       "      <th>...</th>\n",
       "      <th>ORDERCATEGORYNAME</th>\n",
       "      <th>SECONDARYORDERCATEGORYNAME</th>\n",
       "      <th>ORDERCOMPONENTTYPEDESCRIPTION</th>\n",
       "      <th>ORDERCATEGORYDESCRIPTION</th>\n",
       "      <th>PATIENTWEIGHT</th>\n",
       "      <th>TOTALAMOUNT</th>\n",
       "      <th>TOTALAMOUNTUOM</th>\n",
       "      <th>STATUSDESCRIPTION</th>\n",
       "      <th>sed_flag</th>\n",
       "      <th>LABEL</th>\n",
       "    </tr>\n",
       "  </thead>\n",
       "  <tbody>\n",
       "    <tr>\n",
       "      <th>94387</th>\n",
       "      <td>95564.0</td>\n",
       "      <td>74835.0</td>\n",
       "      <td>133120.0</td>\n",
       "      <td>212772.0</td>\n",
       "      <td>2201-09-17 04:00:00</td>\n",
       "      <td>2201-09-18 20:00:00</td>\n",
       "      <td>227520.0</td>\n",
       "      <td>399.999984</td>\n",
       "      <td>mg</td>\n",
       "      <td>10.000000</td>\n",
       "      <td>...</td>\n",
       "      <td>01-Drips</td>\n",
       "      <td>02-Fluids (Crystalloids)</td>\n",
       "      <td>Main order parameter</td>\n",
       "      <td>Continuous Med</td>\n",
       "      <td>100.9</td>\n",
       "      <td>500.0</td>\n",
       "      <td>ml</td>\n",
       "      <td>Rewritten</td>\n",
       "      <td>0.0</td>\n",
       "      <td>Methadone Hydrochloride</td>\n",
       "    </tr>\n",
       "    <tr>\n",
       "      <th>94407</th>\n",
       "      <td>94734.0</td>\n",
       "      <td>74835.0</td>\n",
       "      <td>133120.0</td>\n",
       "      <td>212772.0</td>\n",
       "      <td>2201-09-16 01:09:00</td>\n",
       "      <td>2201-09-16 06:08:00</td>\n",
       "      <td>227520.0</td>\n",
       "      <td>199.333331</td>\n",
       "      <td>mg</td>\n",
       "      <td>40.000000</td>\n",
       "      <td>...</td>\n",
       "      <td>01-Drips</td>\n",
       "      <td>02-Fluids (Crystalloids)</td>\n",
       "      <td>Main order parameter</td>\n",
       "      <td>Continuous Med</td>\n",
       "      <td>100.9</td>\n",
       "      <td>250.0</td>\n",
       "      <td>ml</td>\n",
       "      <td>Rewritten</td>\n",
       "      <td>0.0</td>\n",
       "      <td>Methadone Hydrochloride</td>\n",
       "    </tr>\n",
       "    <tr>\n",
       "      <th>94437</th>\n",
       "      <td>96452.0</td>\n",
       "      <td>74835.0</td>\n",
       "      <td>133120.0</td>\n",
       "      <td>212772.0</td>\n",
       "      <td>2201-09-19 09:47:00</td>\n",
       "      <td>2201-09-20 12:04:00</td>\n",
       "      <td>227520.0</td>\n",
       "      <td>262.833323</td>\n",
       "      <td>mg</td>\n",
       "      <td>10.000000</td>\n",
       "      <td>...</td>\n",
       "      <td>01-Drips</td>\n",
       "      <td>02-Fluids (Crystalloids)</td>\n",
       "      <td>Main order parameter</td>\n",
       "      <td>Continuous Med</td>\n",
       "      <td>100.9</td>\n",
       "      <td>500.0</td>\n",
       "      <td>ml</td>\n",
       "      <td>Stopped</td>\n",
       "      <td>0.0</td>\n",
       "      <td>Methadone Hydrochloride</td>\n",
       "    </tr>\n",
       "    <tr>\n",
       "      <th>94512</th>\n",
       "      <td>94613.0</td>\n",
       "      <td>74835.0</td>\n",
       "      <td>133120.0</td>\n",
       "      <td>212772.0</td>\n",
       "      <td>2201-09-16 12:01:00</td>\n",
       "      <td>2201-09-17 04:05:00</td>\n",
       "      <td>227520.0</td>\n",
       "      <td>160.666680</td>\n",
       "      <td>mg</td>\n",
       "      <td>10.000001</td>\n",
       "      <td>...</td>\n",
       "      <td>01-Drips</td>\n",
       "      <td>02-Fluids (Crystalloids)</td>\n",
       "      <td>Main order parameter</td>\n",
       "      <td>Continuous Med</td>\n",
       "      <td>100.9</td>\n",
       "      <td>500.0</td>\n",
       "      <td>ml</td>\n",
       "      <td>Rewritten</td>\n",
       "      <td>0.0</td>\n",
       "      <td>Methadone Hydrochloride</td>\n",
       "    </tr>\n",
       "    <tr>\n",
       "      <th>94575</th>\n",
       "      <td>96760.0</td>\n",
       "      <td>74835.0</td>\n",
       "      <td>133120.0</td>\n",
       "      <td>212772.0</td>\n",
       "      <td>2201-09-17 17:47:00</td>\n",
       "      <td>2201-09-19 09:47:00</td>\n",
       "      <td>227520.0</td>\n",
       "      <td>399.999984</td>\n",
       "      <td>mg</td>\n",
       "      <td>10.000000</td>\n",
       "      <td>...</td>\n",
       "      <td>01-Drips</td>\n",
       "      <td>02-Fluids (Crystalloids)</td>\n",
       "      <td>Main order parameter</td>\n",
       "      <td>Continuous Med</td>\n",
       "      <td>100.9</td>\n",
       "      <td>500.0</td>\n",
       "      <td>ml</td>\n",
       "      <td>Rewritten</td>\n",
       "      <td>0.0</td>\n",
       "      <td>Methadone Hydrochloride</td>\n",
       "    </tr>\n",
       "  </tbody>\n",
       "</table>\n",
       "<p>5 rows × 23 columns</p>\n",
       "</div>"
      ],
      "text/plain": [
       "        ROW_ID  SUBJECT_ID   HADM_ID  ICUSTAY_ID           STARTTIME  \\\n",
       "94387  95564.0     74835.0  133120.0    212772.0 2201-09-17 04:00:00   \n",
       "94407  94734.0     74835.0  133120.0    212772.0 2201-09-16 01:09:00   \n",
       "94437  96452.0     74835.0  133120.0    212772.0 2201-09-19 09:47:00   \n",
       "94512  94613.0     74835.0  133120.0    212772.0 2201-09-16 12:01:00   \n",
       "94575  96760.0     74835.0  133120.0    212772.0 2201-09-17 17:47:00   \n",
       "\n",
       "                  ENDTIME    ITEMID      AMOUNT AMOUNTUOM       RATE  \\\n",
       "94387 2201-09-18 20:00:00  227520.0  399.999984        mg  10.000000   \n",
       "94407 2201-09-16 06:08:00  227520.0  199.333331        mg  40.000000   \n",
       "94437 2201-09-20 12:04:00  227520.0  262.833323        mg  10.000000   \n",
       "94512 2201-09-17 04:05:00  227520.0  160.666680        mg  10.000001   \n",
       "94575 2201-09-19 09:47:00  227520.0  399.999984        mg  10.000000   \n",
       "\n",
       "                ...            ORDERCATEGORYNAME  SECONDARYORDERCATEGORYNAME  \\\n",
       "94387           ...                     01-Drips    02-Fluids (Crystalloids)   \n",
       "94407           ...                     01-Drips    02-Fluids (Crystalloids)   \n",
       "94437           ...                     01-Drips    02-Fluids (Crystalloids)   \n",
       "94512           ...                     01-Drips    02-Fluids (Crystalloids)   \n",
       "94575           ...                     01-Drips    02-Fluids (Crystalloids)   \n",
       "\n",
       "       ORDERCOMPONENTTYPEDESCRIPTION ORDERCATEGORYDESCRIPTION PATIENTWEIGHT  \\\n",
       "94387           Main order parameter           Continuous Med         100.9   \n",
       "94407           Main order parameter           Continuous Med         100.9   \n",
       "94437           Main order parameter           Continuous Med         100.9   \n",
       "94512           Main order parameter           Continuous Med         100.9   \n",
       "94575           Main order parameter           Continuous Med         100.9   \n",
       "\n",
       "      TOTALAMOUNT TOTALAMOUNTUOM  STATUSDESCRIPTION  sed_flag  \\\n",
       "94387       500.0             ml          Rewritten       0.0   \n",
       "94407       250.0             ml          Rewritten       0.0   \n",
       "94437       500.0             ml            Stopped       0.0   \n",
       "94512       500.0             ml          Rewritten       0.0   \n",
       "94575       500.0             ml          Rewritten       0.0   \n",
       "\n",
       "                         LABEL  \n",
       "94387  Methadone Hydrochloride  \n",
       "94407  Methadone Hydrochloride  \n",
       "94437  Methadone Hydrochloride  \n",
       "94512  Methadone Hydrochloride  \n",
       "94575  Methadone Hydrochloride  \n",
       "\n",
       "[5 rows x 23 columns]"
      ]
     },
     "execution_count": 35,
     "metadata": {},
     "output_type": "execute_result"
    }
   ],
   "source": [
    "inp_med_df.head()"
   ]
  },
  {
   "cell_type": "markdown",
   "metadata": {},
   "source": [
    "## Filtering by cohort list"
   ]
  },
  {
   "cell_type": "code",
   "execution_count": 38,
   "metadata": {
    "collapsed": false
   },
   "outputs": [
    {
     "data": {
      "text/plain": [
       "(2474, 17)"
      ]
     },
     "execution_count": 38,
     "metadata": {},
     "output_type": "execute_result"
    }
   ],
   "source": [
    "cohort_df = pd.read_csv('cohort2474.csv', parse_dates=['starttime', 'endtime', 'intime', 'outtime'])\n",
    "cohort_df.shape"
   ]
  },
  {
   "cell_type": "code",
   "execution_count": 39,
   "metadata": {
    "collapsed": false
   },
   "outputs": [
    {
     "data": {
      "text/html": [
       "<div>\n",
       "<table border=\"1\" class=\"dataframe\">\n",
       "  <thead>\n",
       "    <tr style=\"text-align: right;\">\n",
       "      <th></th>\n",
       "      <th>Unnamed: 0</th>\n",
       "      <th>subject_id</th>\n",
       "      <th>icustay_id</th>\n",
       "      <th>ventnum</th>\n",
       "      <th>starttime</th>\n",
       "      <th>endtime</th>\n",
       "      <th>duration_hours</th>\n",
       "      <th>age</th>\n",
       "      <th>rank</th>\n",
       "      <th>dayHrs</th>\n",
       "      <th>nightHrs</th>\n",
       "      <th>hadm_id</th>\n",
       "      <th>first_careunit</th>\n",
       "      <th>last_careunit</th>\n",
       "      <th>intime</th>\n",
       "      <th>outtime</th>\n",
       "      <th>los</th>\n",
       "    </tr>\n",
       "  </thead>\n",
       "  <tbody>\n",
       "    <tr>\n",
       "      <th>0</th>\n",
       "      <td>1</td>\n",
       "      <td>10075</td>\n",
       "      <td>263099</td>\n",
       "      <td>1</td>\n",
       "      <td>2184-10-04 12:00:00</td>\n",
       "      <td>2184-10-08 16:00:00</td>\n",
       "      <td>100.0</td>\n",
       "      <td>62</td>\n",
       "      <td>1</td>\n",
       "      <td>52.0</td>\n",
       "      <td>48.0</td>\n",
       "      <td>153175</td>\n",
       "      <td>CSRU</td>\n",
       "      <td>CSRU</td>\n",
       "      <td>2184-10-04 09:03:19</td>\n",
       "      <td>2184-10-08 17:44:15</td>\n",
       "      <td>4.3618</td>\n",
       "    </tr>\n",
       "    <tr>\n",
       "      <th>1</th>\n",
       "      <td>2</td>\n",
       "      <td>10248</td>\n",
       "      <td>215903</td>\n",
       "      <td>1</td>\n",
       "      <td>2175-06-10 00:00:00</td>\n",
       "      <td>2175-06-13 16:00:00</td>\n",
       "      <td>88.0</td>\n",
       "      <td>69</td>\n",
       "      <td>1</td>\n",
       "      <td>45.0</td>\n",
       "      <td>43.0</td>\n",
       "      <td>108856</td>\n",
       "      <td>MICU</td>\n",
       "      <td>MICU</td>\n",
       "      <td>2175-06-09 18:32:51</td>\n",
       "      <td>2175-06-15 16:21:26</td>\n",
       "      <td>5.9087</td>\n",
       "    </tr>\n",
       "  </tbody>\n",
       "</table>\n",
       "</div>"
      ],
      "text/plain": [
       "   Unnamed: 0  subject_id  icustay_id  ventnum           starttime  \\\n",
       "0           1       10075      263099        1 2184-10-04 12:00:00   \n",
       "1           2       10248      215903        1 2175-06-10 00:00:00   \n",
       "\n",
       "              endtime  duration_hours  age  rank  dayHrs  nightHrs  hadm_id  \\\n",
       "0 2184-10-08 16:00:00           100.0   62     1    52.0      48.0   153175   \n",
       "1 2175-06-13 16:00:00            88.0   69     1    45.0      43.0   108856   \n",
       "\n",
       "  first_careunit last_careunit              intime             outtime     los  \n",
       "0           CSRU          CSRU 2184-10-04 09:03:19 2184-10-08 17:44:15  4.3618  \n",
       "1           MICU          MICU 2175-06-09 18:32:51 2175-06-15 16:21:26  5.9087  "
      ]
     },
     "execution_count": 39,
     "metadata": {},
     "output_type": "execute_result"
    }
   ],
   "source": [
    "cohort_df.head(2)"
   ]
  },
  {
   "cell_type": "markdown",
   "metadata": {},
   "source": [
    "Merging"
   ]
  },
  {
   "cell_type": "code",
   "execution_count": 41,
   "metadata": {
    "collapsed": false
   },
   "outputs": [
    {
     "data": {
      "text/plain": [
       "(171508, 32)"
      ]
     },
     "execution_count": 41,
     "metadata": {},
     "output_type": "execute_result"
    }
   ],
   "source": [
    "inp_med_cohort = pd.merge(cohort_df[['hadm_id', 'starttime', 'endtime', 'age', 'dayHrs', \n",
    "                                     'nightHrs','intime', 'los', 'icustay_id']], inp_med_df, \n",
    "                          left_on = 'icustay_id', right_on= 'ICUSTAY_ID', how='inner')\n",
    "inp_med_cohort.shape"
   ]
  },
  {
   "cell_type": "markdown",
   "metadata": {},
   "source": [
    "Saving file with all meds for cohort"
   ]
  },
  {
   "cell_type": "code",
   "execution_count": 42,
   "metadata": {
    "collapsed": false
   },
   "outputs": [],
   "source": [
    "inp_med_cohort.to_csv('Cohort_all_med_170415.csv')"
   ]
  },
  {
   "cell_type": "code",
   "execution_count": null,
   "metadata": {
    "collapsed": true
   },
   "outputs": [],
   "source": []
  }
 ],
 "metadata": {
  "anaconda-cloud": {},
  "kernelspec": {
   "display_name": "Python [conda env:py27]",
   "language": "python",
   "name": "conda-env-py27-py"
  },
  "language_info": {
   "codemirror_mode": {
    "name": "ipython",
    "version": 2
   },
   "file_extension": ".py",
   "mimetype": "text/x-python",
   "name": "python",
   "nbconvert_exporter": "python",
   "pygments_lexer": "ipython2",
   "version": "2.7.13"
  }
 },
 "nbformat": 4,
 "nbformat_minor": 2
}
